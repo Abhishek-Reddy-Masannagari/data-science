{
 "cells": [
  {
   "cell_type": "markdown",
   "id": "f68b0b34",
   "metadata": {},
   "source": [
    "Calculate Area of a Circle?"
   ]
  },
  {
   "cell_type": "code",
   "execution_count": 7,
   "id": "d2fd1e08",
   "metadata": {},
   "outputs": [
    {
     "name": "stdout",
     "output_type": "stream",
     "text": [
      "Area of circle 200.96\n"
     ]
    }
   ],
   "source": [
    "PI = 3.14\n",
    "r = 8\n",
    "Area = PI * (r*r)\n",
    "print(\"Area of circle\", Area)"
   ]
  },
  {
   "cell_type": "markdown",
   "id": "45db7d02",
   "metadata": {},
   "source": [
    "Say Hello to user, Expected, ‘Hello name’"
   ]
  },
  {
   "cell_type": "code",
   "execution_count": 9,
   "id": "1560f951",
   "metadata": {},
   "outputs": [
    {
     "name": "stdout",
     "output_type": "stream",
     "text": [
      "Hello Abhishek\n"
     ]
    }
   ],
   "source": [
    "print(\"Hello Abhishek\")"
   ]
  },
  {
   "cell_type": "markdown",
   "id": "68d03575",
   "metadata": {},
   "source": [
    "Calculate Volume of Sphere"
   ]
  },
  {
   "cell_type": "code",
   "execution_count": 13,
   "id": "e49b33b3",
   "metadata": {},
   "outputs": [
    {
     "name": "stdout",
     "output_type": "stream",
     "text": [
      "Volume of the sphere is: 267.94666666666666\n"
     ]
    }
   ],
   "source": [
    "pi = 3.14\n",
    "r = 4\n",
    "Volume = 4/3*pi*(r*r*r)\n",
    "print(\"Volume of the sphere is:\",Volume)"
   ]
  },
  {
   "cell_type": "markdown",
   "id": "d9c7b3e3",
   "metadata": {},
   "source": [
    "Copy String in n times"
   ]
  },
  {
   "cell_type": "code",
   "execution_count": 15,
   "id": "4a388040",
   "metadata": {},
   "outputs": [
    {
     "name": "stdout",
     "output_type": "stream",
     "text": [
      "statements: My life my goalsMy life my goalsMy life my goalsMy life my goalsMy life my goals\n"
     ]
    }
   ],
   "source": [
    "statement = \"My life my goals\"\n",
    "statements = statement * 5\n",
    "print(\"statements:\",statements)"
   ]
  },
  {
   "cell_type": "markdown",
   "id": "f0926f6a",
   "metadata": {},
   "source": [
    " Calculate Area of a Triangle?"
   ]
  },
  {
   "cell_type": "code",
   "execution_count": 16,
   "id": "2e13e354",
   "metadata": {},
   "outputs": [
    {
     "name": "stdout",
     "output_type": "stream",
     "text": [
      "Area of triangle is: 12.0\n"
     ]
    }
   ],
   "source": [
    "base=4\n",
    "height=6\n",
    "Area = 1/2*base*height\n",
    "print(\"Area of triangle is:\",Area)"
   ]
  },
  {
   "cell_type": "markdown",
   "id": "8250569e",
   "metadata": {},
   "source": [
    "Calculate Interest?"
   ]
  },
  {
   "cell_type": "code",
   "execution_count": 19,
   "id": "4095af78",
   "metadata": {},
   "outputs": [
    {
     "name": "stdout",
     "output_type": "stream",
     "text": [
      "Interest: 5000.0\n"
     ]
    }
   ],
   "source": [
    "principal = 50000 \n",
    "rate_percent = 5\n",
    "time_years = 2\n",
    "Interest = (principal*rate_percent*time_years)/100\n",
    "print(\"Interest:\",Interest)"
   ]
  },
  {
   "cell_type": "markdown",
   "id": "e22f0cb5",
   "metadata": {},
   "source": [
    "calculate Euclidean Distance?"
   ]
  },
  {
   "cell_type": "code",
   "execution_count": 21,
   "id": "45c959d2",
   "metadata": {},
   "outputs": [
    {
     "name": "stdout",
     "output_type": "stream",
     "text": [
      "Euclidean distance is: 2.8284271247461903\n"
     ]
    }
   ],
   "source": [
    "import math\n",
    "x=(1,2)\n",
    "y=(3,4)\n",
    "distance = math.sqrt(((x[0]-y[0])**2)+((x[1]-y[1])**2))\n",
    "print(\"Euclidean distance is:\",distance)"
   ]
  },
  {
   "cell_type": "markdown",
   "id": "55516391",
   "metadata": {},
   "source": [
    "Feet to centimeter Converter"
   ]
  },
  {
   "cell_type": "code",
   "execution_count": 23,
   "id": "f0178d91",
   "metadata": {},
   "outputs": [
    {
     "name": "stdout",
     "output_type": "stream",
     "text": [
      "converted centimeters 182.88\n"
     ]
    }
   ],
   "source": [
    "h_ft = 6\n",
    "h_cm = h_ft * 30.48\n",
    "print(\"converted centimeters\",h_cm)"
   ]
  },
  {
   "cell_type": "markdown",
   "id": "ec34fc57",
   "metadata": {},
   "source": [
    "BMI Calculator"
   ]
  },
  {
   "cell_type": "code",
   "execution_count": 24,
   "id": "7ef30c44",
   "metadata": {},
   "outputs": [
    {
     "name": "stdout",
     "output_type": "stream",
     "text": [
      "calculated BMI 24.930747922437675\n"
     ]
    }
   ],
   "source": [
    "weight_kg = 90\n",
    "height_m = 1.90\n",
    "BMI = weight_kg/(height_m**2)\n",
    "print(\"calculated BMI\",BMI)"
   ]
  },
  {
   "cell_type": "markdown",
   "id": "69eefd8a",
   "metadata": {},
   "source": [
    "receive two integral numbers in string form and compute their sum and then print it in console?"
   ]
  },
  {
   "cell_type": "code",
   "execution_count": 11,
   "id": "c1e80dff",
   "metadata": {},
   "outputs": [
    {
     "name": "stdout",
     "output_type": "stream",
     "text": [
      "4\n",
      "11\n"
     ]
    }
   ],
   "source": [
    "string = \"Abhishek 4 DOB 7\"\n",
    "sum = 0\n",
    "for i in string:\n",
    "    if (i.isnumeric()):\n",
    "        sum = sum + int(i)\n",
    "        print(sum)\n"
   ]
  },
  {
   "cell_type": "markdown",
   "id": "2812ca3c",
   "metadata": {},
   "source": [
    "bitwise operators for any two variable all the bitwise operator that are there?"
   ]
  },
  {
   "cell_type": "code",
   "execution_count": 13,
   "id": "96c9cd2d",
   "metadata": {},
   "outputs": [
    {
     "ename": "SyntaxError",
     "evalue": "invalid syntax (<ipython-input-13-7625b82ac40a>, line 4)",
     "output_type": "error",
     "traceback": [
      "\u001b[0;36m  Input \u001b[0;32mIn [13]\u001b[0;36m\u001b[0m\n\u001b[0;31m    a << b(a shifts left by b units)\u001b[0m\n\u001b[0m             ^\u001b[0m\n\u001b[0;31mSyntaxError\u001b[0m\u001b[0;31m:\u001b[0m invalid syntax\n"
     ]
    }
   ],
   "source": [
    "a & b(AND)\n",
    "a | b(OR)\n",
    "a ^ b(XOR)\n",
    "a << b(a shifts left by b units)\n",
    "a >> b(a shifts right by b units )\n",
    "~a(Negation of a)"
   ]
  },
  {
   "cell_type": "markdown",
   "id": "c7bfc377",
   "metadata": {},
   "source": [
    "str1=\" this is a sample daTaa to test for the task\" Check if ‘is’ present in str1?"
   ]
  },
  {
   "cell_type": "code",
   "execution_count": 17,
   "id": "79fbd556",
   "metadata": {},
   "outputs": [
    {
     "name": "stdout",
     "output_type": "stream",
     "text": [
      " is present  in str1\n"
     ]
    }
   ],
   "source": [
    "str1=\" this is a sample daTaa to test for the task\"\n",
    "res = str1.find(\"is\")\n",
    "if res >= 0:\n",
    "    print(\" is present  in str1\")\n",
    "else:\n",
    "    print(\" is not present in str1\")"
   ]
  },
  {
   "cell_type": "markdown",
   "id": "1d98d3fe",
   "metadata": {},
   "source": [
    "Check if ‘was’ not present in str1?"
   ]
  },
  {
   "cell_type": "code",
   "execution_count": 18,
   "id": "fe8f3ddb",
   "metadata": {},
   "outputs": [
    {
     "name": "stdout",
     "output_type": "stream",
     "text": [
      " was not present in str1\n"
     ]
    }
   ],
   "source": [
    "str1=\" this is a sample daTaa to test for the task\"\n",
    "res = str1.find(\"was\")\n",
    "if res >= 0:\n",
    "    print(\" was present  in str1\")\n",
    "else:\n",
    "    print(\" was not present in str1\")"
   ]
  },
  {
   "cell_type": "markdown",
   "id": "92d1dd4c",
   "metadata": {},
   "source": [
    "Print str1 in uppercase?"
   ]
  },
  {
   "cell_type": "code",
   "execution_count": 19,
   "id": "ea22d997",
   "metadata": {},
   "outputs": [
    {
     "name": "stdout",
     "output_type": "stream",
     "text": [
      " THIS IS A SAMPLE DATAA TO TEST FOR THE TASK\n"
     ]
    }
   ],
   "source": [
    "str1=\" this is a sample daTaa to test for the task\"\n",
    "print(str1.upper())"
   ]
  },
  {
   "cell_type": "markdown",
   "id": "811a328a",
   "metadata": {},
   "source": [
    "Print str1 as title?"
   ]
  },
  {
   "cell_type": "code",
   "execution_count": 20,
   "id": "94628968",
   "metadata": {},
   "outputs": [
    {
     "name": "stdout",
     "output_type": "stream",
     "text": [
      " This Is A Sample Dataa To Test For The Task\n"
     ]
    }
   ],
   "source": [
    "str1=\" this is a sample daTaa to test for the task\"\n",
    "print(str1.title())"
   ]
  },
  {
   "cell_type": "markdown",
   "id": "496d6afc",
   "metadata": {},
   "source": [
    "Get a new string from str1 ‘DatTaa’ as ‘Data’?"
   ]
  },
  {
   "cell_type": "code",
   "execution_count": 25,
   "id": "12b2082c",
   "metadata": {},
   "outputs": [
    {
     "name": "stdout",
     "output_type": "stream",
     "text": [
      "Data\n"
     ]
    }
   ],
   "source": [
    "str1=\" thisisasampleDataatotestforthetask\"\n",
    "print(str1[14:18])"
   ]
  },
  {
   "cell_type": "markdown",
   "id": "4fa461a0",
   "metadata": {},
   "source": [
    "Print a new string with extra \"a\" removed form previous task?"
   ]
  },
  {
   "cell_type": "code",
   "execution_count": 27,
   "id": "816db5a7",
   "metadata": {},
   "outputs": [
    {
     "name": "stdout",
     "output_type": "stream",
     "text": [
      "Data\n"
     ]
    }
   ],
   "source": [
    "str1=\"Dataa\"\n",
    "print(str1.removesuffix('a'))"
   ]
  },
  {
   "cell_type": "markdown",
   "id": "67456f7c",
   "metadata": {},
   "source": [
    "Display ‘sample’ word from ‘ this is another sample string ‘?"
   ]
  },
  {
   "cell_type": "code",
   "execution_count": 29,
   "id": "b9dd8e50",
   "metadata": {},
   "outputs": [
    {
     "name": "stdout",
     "output_type": "stream",
     "text": [
      "sample\n"
     ]
    }
   ],
   "source": [
    "str = \"thisisanothersamplestring\"\n",
    "print(str[13:19])\n"
   ]
  },
  {
   "cell_type": "markdown",
   "id": "85e6c6f0",
   "metadata": {},
   "source": [
    "Display date, month and year form 21-oct-2020?"
   ]
  },
  {
   "cell_type": "code",
   "execution_count": 32,
   "id": "a8219e5d",
   "metadata": {},
   "outputs": [
    {
     "name": "stdout",
     "output_type": "stream",
     "text": [
      "Current date:21.10.2020 \n",
      " year:2020\n",
      " month:october\n",
      "Current day:21\n"
     ]
    }
   ],
   "source": [
    "from datetime import date\n",
    "print(\"Current date:21.10.2020 \")\n",
    "print(\" year:2020\")\n",
    "print(\" month:october\")\n",
    "print(\"Current day:21\")"
   ]
  },
  {
   "cell_type": "markdown",
   "id": "0b4a3457",
   "metadata": {},
   "source": [
    "arr = “10,20,30,40,50,60,70”, get “50,60”?"
   ]
  },
  {
   "cell_type": "code",
   "execution_count": 41,
   "id": "a2f195f7",
   "metadata": {},
   "outputs": [
    {
     "name": "stdout",
     "output_type": "stream",
     "text": [
      "50\n",
      "60\n"
     ]
    }
   ],
   "source": [
    "arr = [10,20,30,40,50,60,70]\n",
    "print(arr[4])\n",
    "print(arr[5])\n"
   ]
  },
  {
   "cell_type": "markdown",
   "id": "33b15812",
   "metadata": {},
   "source": [
    "From credit_str get ‘8888’\n",
    "credit_str = \"xxxx----xxxx-8888------xxxx\""
   ]
  },
  {
   "cell_type": "code",
   "execution_count": 43,
   "id": "a5869400",
   "metadata": {},
   "outputs": [
    {
     "name": "stdout",
     "output_type": "stream",
     "text": [
      "8888\n"
     ]
    }
   ],
   "source": [
    "credit_str = \"xxxx----xxxx-8888------xxxx\"\n",
    "print(credit_str[13:17])"
   ]
  },
  {
   "cell_type": "markdown",
   "id": "04c267f5",
   "metadata": {},
   "source": [
    "From credit_str get ‘0’\n",
    "credit_str = \"1234-5678-9878-0434\""
   ]
  },
  {
   "cell_type": "code",
   "execution_count": 46,
   "id": "0bf2dea5",
   "metadata": {},
   "outputs": [
    {
     "name": "stdout",
     "output_type": "stream",
     "text": [
      "0\n"
     ]
    }
   ],
   "source": [
    "credit_str = \"1234-5678-9878-0434\"\n",
    "print(credit_str[15:16])"
   ]
  },
  {
   "cell_type": "markdown",
   "id": "7f3a2248",
   "metadata": {},
   "source": [
    "convert a integer into a string and print it in console?"
   ]
  },
  {
   "cell_type": "code",
   "execution_count": 10,
   "id": "9e885ea6",
   "metadata": {},
   "outputs": [
    {
     "name": "stdout",
     "output_type": "stream",
     "text": [
      "<class 'str'>\n"
     ]
    }
   ],
   "source": [
    "num = 10\n",
    "converted_num = f'{num}'\n",
    "print(type(converted_num))"
   ]
  },
  {
   "cell_type": "markdown",
   "id": "cb45ab51",
   "metadata": {},
   "source": [
    "take two strings as input and concatenate them and then print it?"
   ]
  },
  {
   "cell_type": "code",
   "execution_count": 12,
   "id": "c3c61db1",
   "metadata": {},
   "outputs": [
    {
     "name": "stdout",
     "output_type": "stream",
     "text": [
      "I'm Abhishek Reddy and living in Germany\n"
     ]
    }
   ],
   "source": [
    "str1 = \"I'm Abhishek Reddy\"\n",
    "str2 = \" and living in Germany\"\n",
    "str = str1 + str2\n",
    "print(str)"
   ]
  },
  {
   "cell_type": "markdown",
   "id": "2aa5b2ad",
   "metadata": {},
   "source": [
    "convert the given string into list\n",
    "given_string = \" Apples is differnt from Apple Inc\"?"
   ]
  },
  {
   "cell_type": "code",
   "execution_count": 17,
   "id": "1a68db5d",
   "metadata": {},
   "outputs": [
    {
     "name": "stdout",
     "output_type": "stream",
     "text": [
      "['Apples', 'is', 'differnt', 'from', 'Apple', 'Inc']\n"
     ]
    }
   ],
   "source": [
    "given_string = \" Apples is differnt from Apple Inc\"\n",
    "print(given_string.split())\n",
    "  \n"
   ]
  },
  {
   "cell_type": "markdown",
   "id": "21d64a65",
   "metadata": {},
   "source": [
    "print type of a and get the 1 element\n",
    "a = {(1,2):1,(2,3):2}?"
   ]
  },
  {
   "cell_type": "code",
   "execution_count": 19,
   "id": "c5ac4e66",
   "metadata": {},
   "outputs": [
    {
     "name": "stdout",
     "output_type": "stream",
     "text": [
      "<class 'dict'>\n",
      "1\n"
     ]
    }
   ],
   "source": [
    "a = {(1,2):1,(2,3):2}\n",
    "print(type(a))\n",
    "print(a[1,2])"
   ]
  },
  {
   "cell_type": "markdown",
   "id": "495bb432",
   "metadata": {},
   "source": [
    "write a program to get  list as 4,3,2 from the list below\n",
    "a=1,2,3,4,5?"
   ]
  },
  {
   "cell_type": "code",
   "execution_count": 7,
   "id": "d9ee387a",
   "metadata": {},
   "outputs": [
    {
     "name": "stdout",
     "output_type": "stream",
     "text": [
      "\n",
      "Elements sliced from index -4 to -1\n",
      "[2, 3, 4]\n"
     ]
    }
   ],
   "source": [
    "a=[1,2,3,4,5]\n",
    "Sliced_List = a[-4:-1]\n",
    "print(\"\\nElements sliced from index -4 to -1\")\n",
    "print(Sliced_List)\n"
   ]
  },
  {
   "cell_type": "markdown",
   "id": "b54997dc",
   "metadata": {},
   "source": [
    "write a program to get odd number only using a slicing\n",
    "a=1,2,3,4,5,6,7,8,9"
   ]
  },
  {
   "cell_type": "code",
   "execution_count": 11,
   "id": "0ff80957",
   "metadata": {},
   "outputs": [
    {
     "name": "stdout",
     "output_type": "stream",
     "text": [
      "\n",
      "Elements sliced from index 0 to 5\n",
      "[1, 3, 5, 7, 9]\n"
     ]
    }
   ],
   "source": [
    "a = [1,3,5,7,9,2,4,6,8]\n",
    "Sliced_List = a[0:5]\n",
    "print(\"\\nElements sliced from index 0 to 5\")\n",
    "print(Sliced_List)\n"
   ]
  },
  {
   "cell_type": "markdown",
   "id": "731c1741",
   "metadata": {},
   "source": [
    "create a tuple with (1,2) 5 times"
   ]
  },
  {
   "cell_type": "code",
   "execution_count": 12,
   "id": "933d52ce",
   "metadata": {},
   "outputs": [
    {
     "name": "stdout",
     "output_type": "stream",
     "text": [
      "\n",
      "Tuple with repetition: \n",
      "(1, 2, 1, 2, 1, 2, 1, 2, 1, 2)\n"
     ]
    }
   ],
   "source": [
    "Tuple1 = (1,2) * 5\n",
    "print(\"\\nTuple with repetition: \")\n",
    "print(Tuple1)"
   ]
  },
  {
   "cell_type": "markdown",
   "id": "3a7efba6",
   "metadata": {},
   "source": [
    "from given list create separate lists of strings and numbers.use list comprehension\n",
    "gadgets = \"Mobile\", \"Laptop\", 100, \"Camera\", 310.28, \"Speakers\", 27.00, \"Television\", 1000, \"Laptop Case\", \"Camera Lens\""
   ]
  },
  {
   "cell_type": "code",
   "execution_count": 42,
   "id": "fa971e12",
   "metadata": {},
   "outputs": [
    {
     "name": "stdout",
     "output_type": "stream",
     "text": [
      "['Camera Lens']\n"
     ]
    }
   ],
   "source": [
    "gadgets = [\"Mobile\", \"Laptop\", 100, \"Camera\", 310.28, \"Speakers\", 27.00, \"Television\", 1000, \"Laptop Case\", \"Camera Lens\"]\n",
    "gadgets_str = []\n",
    "gadgets_int = []\n",
    "for i in gadgets:\n",
    "    t = type(i)==str\n",
    "if t:\n",
    "    gadgets_str.append(i)\n",
    "    \n",
    "else: \n",
    "    gadgets_int.append(i)\n",
    "\n",
    "print(gadgets_str)\n",
    "\n"
   ]
  },
  {
   "cell_type": "markdown",
   "id": "9dcbc6c2",
   "metadata": {},
   "source": [
    "An array is given from the array find the sum of diagonal using list comprehension\n",
    "a_2d=[1, 2, 3, 4, 5, 6, 7, 8, 9]"
   ]
  },
  {
   "cell_type": "code",
   "execution_count": 15,
   "id": "5440f53e",
   "metadata": {},
   "outputs": [
    {
     "name": "stdout",
     "output_type": "stream",
     "text": [
      "Requirement already satisfied: numpy in ./miniconda3/lib/python3.9/site-packages (1.21.2)\n",
      "Note: you may need to restart the kernel to use updated packages.\n"
     ]
    }
   ],
   "source": [
    "pip install numpy"
   ]
  },
  {
   "cell_type": "code",
   "execution_count": 41,
   "id": "d991b076",
   "metadata": {},
   "outputs": [
    {
     "name": "stdout",
     "output_type": "stream",
     "text": [
      "[15]\n"
     ]
    }
   ],
   "source": [
    "a_2d = [1,2,3,4,5,6,7,8,9]\n",
    "diagonal_2d = [a_2d[0],a_2d[4],a_2d[8]]\n",
    "sum = [a_2d[0]+a_2d[4]+a_2d[8]] \n",
    "print(sum)\n",
    "    \n"
   ]
  },
  {
   "cell_type": "markdown",
   "id": "a1fb76ca",
   "metadata": {},
   "source": [
    "convert number into tuple of words using comprehension\n",
    "num=8976543201"
   ]
  },
  {
   "cell_type": "code",
   "execution_count": 60,
   "id": "9febb756",
   "metadata": {},
   "outputs": [
    {
     "name": "stdout",
     "output_type": "stream",
     "text": [
      "['8', '9', '7', '6', '5', '4', '3', '2', '0', '1']\n",
      "The list after conversion to tuple list : [(8,), (9,), (7,), (6,), (5,), (4,), (3,), (2,), (0,), (1,)]\n"
     ]
    }
   ],
   "source": [
    "num=8976543201\n",
    "num_str = [str(a) for a in str(num)]\n",
    "print(num_str)\n",
    "res = [tuple(map(int, sub.split(', '))) for sub in num_str]\n",
    "print(\"The list after conversion to tuple list : \" + str(res))"
   ]
  },
  {
   "cell_type": "markdown",
   "id": "fe5cc7ac",
   "metadata": {},
   "source": [
    "print the numbers which are divisible by 2 but are not a multiple of 5\n",
    "numbers = range(1, 10)"
   ]
  },
  {
   "cell_type": "code",
   "execution_count": 65,
   "id": "02aad60f",
   "metadata": {},
   "outputs": [
    {
     "ename": "SyntaxError",
     "evalue": "invalid syntax (<ipython-input-65-ecf991ca7a26>, line 3)",
     "output_type": "error",
     "traceback": [
      "\u001b[0;36m  Input \u001b[0;32mIn [65]\u001b[0;36m\u001b[0m\n\u001b[0;31m    (int = x/2) for x in range(1,10):\u001b[0m\n\u001b[0m         ^\u001b[0m\n\u001b[0;31mSyntaxError\u001b[0m\u001b[0;31m:\u001b[0m invalid syntax\n"
     ]
    }
   ],
   "source": [
    "multiples_2 = []\n",
    "def multiples(i):\n",
    "    (int = x/2) for x in range(1,10):\n",
    "        if int=1:\n",
    "            multiples_2.append(i)\n",
    "print(multiples_2)\n"
   ]
  },
  {
   "cell_type": "code",
   "execution_count": null,
   "id": "51903e72",
   "metadata": {},
   "outputs": [],
   "source": []
  }
 ],
 "metadata": {
  "kernelspec": {
   "display_name": "Python 3",
   "language": "python",
   "name": "python3"
  },
  "language_info": {
   "codemirror_mode": {
    "name": "ipython",
    "version": 3
   },
   "file_extension": ".py",
   "mimetype": "text/x-python",
   "name": "python",
   "nbconvert_exporter": "python",
   "pygments_lexer": "ipython3",
   "version": "3.9.7"
  }
 },
 "nbformat": 4,
 "nbformat_minor": 5
}
